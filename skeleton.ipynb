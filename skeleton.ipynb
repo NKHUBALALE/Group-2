{
 "cells": [
  {
   "cell_type": "markdown",
   "metadata": {},
   "source": [
    "### Logic"
   ]
  },
  {
   "cell_type": "code",
   "execution_count": 1,
   "metadata": {},
   "outputs": [
    {
     "name": "stdout",
     "output_type": "stream",
     "text": [
      "12\n"
     ]
    }
   ],
   "source": [
    "print(6 + 6)\n",
    "# code simply prints the sum"
   ]
  },
  {
   "cell_type": "markdown",
   "metadata": {},
   "source": [
    "### loops "
   ]
  },
  {
   "cell_type": "markdown",
   "metadata": {},
   "source": [
    "#the loop iterate through the numbers and prints them"
   ]
  },
  {
   "cell_type": "code",
   "execution_count": 11,
   "metadata": {},
   "outputs": [
    {
     "name": "stdout",
     "output_type": "stream",
     "text": [
      "1\n",
      "2\n",
      "3\n",
      "4\n",
      "5\n"
     ]
    }
   ],
   "source": [
    "numbers = [1, 2, 3, 4, 5]\n",
    "for number in numbers:\n",
    "    print(number)"
   ]
  },
  {
   "cell_type": "markdown",
   "metadata": {},
   "source": [
    "### Functions  "
   ]
  },
  {
   "cell_type": "code",
   "execution_count": 7,
   "metadata": {},
   "outputs": [
    {
     "data": {
      "text/plain": [
       "10"
      ]
     },
     "execution_count": 7,
     "metadata": {},
     "output_type": "execute_result"
    }
   ],
   "source": [
    "def sum(a, b):  # a function is created that sums numbers it takes 2 input integers\n",
    "    return a + b\n",
    "\n",
    "\n",
    "sum(5, 5)"
   ]
  },
  {
   "cell_type": "markdown",
   "metadata": {},
   "source": [
    "### Recurssion"
   ]
  },
  {
   "cell_type": "code",
   "execution_count": 8,
   "metadata": {},
   "outputs": [
    {
     "name": "stdout",
     "output_type": "stream",
     "text": [
      "Recursive Result: 6\n"
     ]
    }
   ],
   "source": [
    "def calculate_modified_sum_recursive(a, b, c):\n",
    "    if c == 0:\n",
    "        # Base case: If c is 0, return the sum of a and b\n",
    "        return a + b\n",
    "    else:\n",
    "        # Recursive case: Call the function recursively with reduced c\n",
    "        return calculate_modified_sum_recursive(a, b, c - 1) + 1\n",
    "\n",
    "\n",
    "# Call the recursive function and store the result\n",
    "result_recursive = calculate_modified_sum_recursive(3, 2, 1)\n",
    "print(\"Recursive Result:\", result_recursive)"
   ]
  },
  {
   "cell_type": "markdown",
   "metadata": {},
   "source": [
    "### lambda functions "
   ]
  },
  {
   "cell_type": "code",
   "execution_count": 7,
   "metadata": {},
   "outputs": [
    {
     "name": "stdout",
     "output_type": "stream",
     "text": [
      "Division: 3.0\n",
      "Division: Error: Division by zero!\n",
      "Division: 0.0\n"
     ]
    }
   ],
   "source": [
    "divide = lambda x, y: x / y if y != 0 else \"Error: Division by zero!\"\n",
    "print(\"Division:\", divide(6, 2))\n",
    "print(\"Division:\", divide(6, 0))\n",
    "print(\"Division:\", divide(0, 6))"
   ]
  },
  {
   "cell_type": "markdown",
   "metadata": {},
   "source": [
    "### Classes, objects and methods "
   ]
  },
  {
   "cell_type": "code",
   "execution_count": 12,
   "metadata": {},
   "outputs": [
    {
     "name": "stdout",
     "output_type": "stream",
     "text": [
      "Hello, my name is John and I am 20 years old.\n"
     ]
    }
   ],
   "source": [
    "class Student:\n",
    "    def __init__(self, name, age):\n",
    "        \"\"\"\n",
    "        Initializes a new Student instance.\n",
    "\n",
    "        :param name: str - the name of the student\n",
    "        :param age: int - the age of the student\n",
    "        \"\"\"\n",
    "        self.name = name  # Assign the name to the student's name attribute\n",
    "        self.age = age  # Assign the age to the student's age attribute\n",
    "\n",
    "    def greet(self):\n",
    "        \"\"\"\n",
    "        Prints a greeting message that includes the student's name.\n",
    "        \"\"\"\n",
    "        print(f\"Hello, my name is {self.name} and I am {self.age} years old.\")\n",
    "\n",
    "\n",
    "student1 = Student(\"John\", 20)\n",
    "student1.greet()"
   ]
  },
  {
   "cell_type": "markdown",
   "metadata": {},
   "source": []
  },
  {
   "cell_type": "markdown",
   "metadata": {},
   "source": []
  }
 ],
 "metadata": {
  "kernelspec": {
   "display_name": "Python 3",
   "language": "python",
   "name": "python3"
  },
  "language_info": {
   "codemirror_mode": {
    "name": "ipython",
    "version": 3
   },
   "file_extension": ".py",
   "mimetype": "text/x-python",
   "name": "python",
   "nbconvert_exporter": "python",
   "pygments_lexer": "ipython3",
   "version": "3.11.5"
  }
 },
 "nbformat": 4,
 "nbformat_minor": 2
}
