{
   "cells": [
      {
         "cell_type": "markdown",
         "metadata": {},
         "source": [
            "### Logic"
         ]
      },
      {
         "cell_type": "code",
         "execution_count": 34,
         "metadata": {},
         "outputs": [
            {
               "name": "stdout",
               "output_type": "stream",
               "text": [
                  "False\n",
                  "330 > 100 answer is True\n",
                  "0 not in values list is True\n",
                  "1 not in values list is True\n",
                  "2 not in values list is True\n",
                  "3 not in values list is False\n",
                  "4 not in values list is True\n",
                  "5 not in values list is True\n",
                  "6 not in values list is True\n",
                  "7 not in values list is False\n",
                  "8 not in values list is False\n",
                  "9 not in values list is False\n"
               ]
            }
         ],
         "source": [
            "print(6 > 10)\n",
            "print(33 * 10, \">\", 10**2, \"answer is\", 33 * 10 > 10**2)\n",
            "values = [3, 7, 8, 9, 98, 54, 24, 8]\n",
            "\n",
            "4 not in values  ## check if 4 is in values\n",
            "4 in values  ## check if 4 is not in value\n",
            "3 in values\n",
            "3 not in values"
         ]
      },
      {
         "cell_type": "markdown",
         "metadata": {},
         "source": [
            "### loops "
         ]
      },
      {
         "cell_type": "code",
         "execution_count": 39,
         "metadata": {},
         "outputs": [
            {
               "name": "stdout",
               "output_type": "stream",
               "text": [
                  "1 2 3 4 5 \n",
                  "\n",
                  "1 is odd number\n",
                  "2 is even number\n",
                  "3 is odd number\n",
                  "4 is even number\n",
                  "5 is odd number\n",
                  "6 is even number\n",
                  "7 is odd number\n",
                  "8 is even number\n",
                  "9 is odd number\n",
                  "\n",
                  " \n",
                  " \n",
                  "0 not in values list is True\n",
                  "1 not in values list is True\n",
                  "2 not in values list is True\n",
                  "3 not in values list is False\n",
                  "4 not in values list is True\n",
                  "5 not in values list is True\n",
                  "6 not in values list is True\n",
                  "7 not in values list is False\n",
                  "8 not in values list is False\n",
                  "9 not in values list is False\n"
               ]
            }
         ],
         "source": [
            "numbers = [1, 2, 3, 4, 5]\n",
            "for number in numbers:\n",
            "    print(\n",
            "        number, end=\" \"\n",
            "    )  ## The end= ',' tells python to not end the line with empty space and not move to a new ine\n",
            "\n",
            "print(\"\")\n",
            "print(\"\")\n",
            "for number in range(1, 10):\n",
            "    if number % 2 == 0:\n",
            "        print(number, \"is even number\")\n",
            "    else:\n",
            "        print(number, \"is odd number\")\n",
            "\n",
            "\n",
            "values = [3, 7, 8, 9, 98, 54, 24, 8]\n",
            "\n",
            "print(\"\")\n",
            "print(\" \")\n",
            "print(\" \")\n",
            "\n",
            "for number in range(10):\n",
            "    print(number, \"not in values list is\", number not in values)"
         ]
      },
      {
         "cell_type": "markdown",
         "metadata": {},
         "source": [
            "### Functions  "
         ]
      },
      {
         "cell_type": "code",
         "execution_count": 41,
         "metadata": {},
         "outputs": [],
         "source": [
            "def sum(a, b):  # a function is created that sums numbers it takes 2 input integers\n",
            "    return a + b\n",
            "\n",
            "\n",
            "sum(5, 5)\n",
            "\n",
            "\n",
            "def empty_function():\n",
            "\n",
            "    pass  ### do nthing and maybe come back in the future\n",
            "\n",
            "\n",
            "def multiply_and_add(a, b):\n",
            "\n",
            "    return (a * b) + sum(a, b)"
         ]
      },
      {
         "cell_type": "markdown",
         "metadata": {},
         "source": [
            "##### fizz buzz function \n"
         ]
      },
      {
         "cell_type": "code",
         "execution_count": 23,
         "metadata": {},
         "outputs": [
            {
               "name": "stdout",
               "output_type": "stream",
               "text": [
                  "1 2 Fizz 4 Buzz Fizz 7 8 Fizz Buzz 11 Fizz 13 14 FizzBuzz 16 17 Fizz 19 Buzz Fizz 22 23 Fizz Buzz 26 Fizz 28 29 FizzBuzz "
               ]
            }
         ],
         "source": [
            "def fizzbuzz(n):\n",
            "    for number in range(1, n + 1):  #### loops i in range (1, n+1)\n",
            "        if (\n",
            "            number % 3 == 0 and number % 5 == 0\n",
            "        ):  ### check if the remeinder of i in 3 and 5 equals zero\n",
            "            print(\"FizzBuzz\", end=\" \")\n",
            "        elif number % 3 == 0:  ### check if the remeinder of i in 3 equals zero\n",
            "            print(\"Fizz\", end=\" \")\n",
            "        elif number % 5 == 0:  ### check if the remeinder of i in 5 equals zero\n",
            "            print(\"Buzz\", end=\" \")\n",
            "        else:\n",
            "            print(number, end=\" \")\n",
            "\n",
            "\n",
            "# Call the function with the range you want, for example:\n",
            "fizzbuzz(30)"
         ]
      },
      {
         "cell_type": "markdown",
         "metadata": {},
         "source": [
            "### Recurssion"
         ]
      },
      {
         "cell_type": "code",
         "execution_count": 2,
         "metadata": {},
         "outputs": [
            {
               "name": "stdout",
               "output_type": "stream",
               "text": [
                  "Recursive Result: 6\n"
               ]
            }
         ],
         "source": [
            "def calculate_modified_sum_recursive(a, b, c):\n",
            "    if c == 0:\n",
            "        # Base case: If c is 0, return the sum of a and b\n",
            "        return a + b\n",
            "    else:\n",
            "        # Recursive case: Call the function recursively with reduced c\n",
            "        return calculate_modified_sum_recursive(a, b, c - 1) + 1\n",
            "\n",
            "\n",
            "# Call the recursive function and store the result\n",
            "result_recursive = calculate_modified_sum_recursive(3, 2, 1)\n",
            "print(\"Recursive Result:\", result_recursive)"
         ]
      },
      {
         "cell_type": "markdown",
         "metadata": {},
         "source": [
            "### lambda functions "
         ]
      },
      {
         "cell_type": "code",
         "execution_count": 18,
         "metadata": {},
         "outputs": [
            {
               "name": "stdout",
               "output_type": "stream",
               "text": [
                  "Division: 3.0\n",
                  "Division: Error: Division by zero!\n",
                  "Division: 0.0\n"
               ]
            }
         ],
         "source": [
            "divide = lambda x, y: x / y if y != 0 else \"Error: Division by zero!\"\n",
            "print(\"Division:\", divide(6, 2))\n",
            "print(\"Division:\", divide(6, 0))\n",
            "print(\"Division:\", divide(0, 6))"
         ]
      },
      {
         "cell_type": "markdown",
         "metadata": {},
         "source": [
            "### Classes, objects and methods "
         ]
      },
      {
         "cell_type": "code",
         "execution_count": 5,
         "metadata": {},
         "outputs": [],
         "source": [
            "class EmptyClass:  ### This is an empty class\n",
            "    pass  ## im just how the pass works"
         ]
      },
      {
         "cell_type": "code",
         "execution_count": 1,
         "metadata": {},
         "outputs": [
            {
               "name": "stdout",
               "output_type": "stream",
               "text": [
                  "Hello, my name is John and I am 20 years old.\n"
               ]
            }
         ],
         "source": [
            "class Student:\n",
            "    def __init__(self, name, age):\n",
            "        \"\"\"\n",
            "        Initializes a new Student instance.\n",
            "\n",
            "        :param name: str - the name of the student\n",
            "        :param age: int - the age of the student\n",
            "        \"\"\"\n",
            "        self.name = name  # Assign the name to the student's name attribute\n",
            "        self.age = age  # Assign the age to the student's age attribute\n",
            "\n",
            "    def greet(self):\n",
            "        \"\"\"\n",
            "        Prints a greeting message that includes the student's name.\n",
            "        \"\"\"\n",
            "        print(f\"Hello, my name is {self.name} and I am {self.age} years old.\")\n",
            "\n",
            "\n",
            "student1 = Student(\"John\", 20)\n",
            "student1.greet()"
         ]
      }
   ],
   "metadata": {
      "kernelspec": {
         "display_name": "Python 3",
         "language": "python",
         "name": "python3"
      },
      "language_info": {
         "codemirror_mode": {
            "name": "ipython",
            "version": 3
         },
         "file_extension": ".py",
         "mimetype": "text/x-python",
         "name": "python",
         "nbconvert_exporter": "python",
         "pygments_lexer": "ipython3",
         "version": "3.11.9"
      }
   },
   "nbformat": 4,
   "nbformat_minor": 2
}
