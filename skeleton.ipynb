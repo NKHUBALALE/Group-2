{
 "cells": [
  {
   "cell_type": "markdown",
   "metadata": {},
   "source": [
    "### Logic"
   ]
  },
  {
   "cell_type": "code",
   "execution_count": null,
   "metadata": {},
   "outputs": [],
   "source": [
    "print(6 > 10)"
   ]
  },
  {
   "cell_type": "markdown",
   "metadata": {},
   "source": [
    "### Loops "
   ]
  },
  {
   "cell_type": "code",
   "execution_count": null,
   "metadata": {},
   "outputs": [],
   "source": []
  },
  {
   "cell_type": "markdown",
   "metadata": {},
   "source": [
    "## Functions  "
   ]
  },
  {
   "cell_type": "markdown",
   "metadata": {},
   "source": [
    "A function is a named block of organized code designed to do one specific task. The function can then be called multiple times with different inputs. They promote code reuseability, organization, and abstraction, by making your code modular, maintainable, and easier to understand. \n",
    "\n",
    "Functions are defined using the 'def' keyword followed by the function name and parameters enclosed in parentheses. The function body contains the code to be executed when the function is called.\n",
    "\n",
    "A simple function:"
   ]
  },
  {
   "cell_type": "code",
   "execution_count": null,
   "metadata": {},
   "outputs": [],
   "source": [
    "def greet_user():\n",
    " \"\"\"Display a simple greeting.\"\"\"\n",
    " print(\"Hello!\")"
   ]
  },
  {
   "cell_type": "markdown",
   "metadata": {},
   "source": [
    "##### Passing an argument"
   ]
  },
  {
   "cell_type": "markdown",
   "metadata": {},
   "source": [
    "Parameters are variables defined in the function declaration, in parentheses, while arguments are the actual values passed to the function when it is called. The parameters act as placeholders for arguments and define the function's interface, while arguments provide the data that the function will operate on."
   ]
  },
  {
   "cell_type": "code",
   "execution_count": null,
   "metadata": {},
   "outputs": [],
   "source": [
    "def greet_user(username):\n",
    " \"\"\"Display a personalized greeting.\"\"\"\n",
    " print(f\"Hello, {username}!\")\n",
    "\n",
    "greet_user('Alice')"
   ]
  },
  {
   "cell_type": "markdown",
   "metadata": {},
   "source": [
    "##### Default arguments"
   ]
  },
  {
   "cell_type": "markdown",
   "metadata": {},
   "source": [
    "Default values can be provided for function parameters. If a value is not provided when the function is called, the default value is used."
   ]
  },
  {
   "cell_type": "code",
   "execution_count": null,
   "metadata": {},
   "outputs": [],
   "source": [
    "def greet(name=\"World\"):\n",
    "    print(f\"Hello, {name}!\")\n",
    "\n",
    "greet()  # Output: Hello, World!\n",
    "greet(\"Alice\")  # Output: Hello, Alice!"
   ]
  },
  {
   "cell_type": "markdown",
   "metadata": {},
   "source": [
    "##### Return statement"
   ]
  },
  {
   "cell_type": "markdown",
   "metadata": {},
   "source": [
    "The return statement exits the function and optionally returns a value. If no return value is specified, the function returns 'None' by default."
   ]
  },
  {
   "cell_type": "code",
   "execution_count": null,
   "metadata": {},
   "outputs": [],
   "source": [
    "def add_numbers(x, y):\n",
    " \"\"\"Add two numbers and return the sum.\"\"\"\n",
    " return x + y\n",
    "sum = add_numbers(3, 5)\n",
    "print(sum)"
   ]
  },
  {
   "cell_type": "markdown",
   "metadata": {},
   "source": [
    "##### Variable-Length Arguments"
   ]
  },
  {
   "cell_type": "markdown",
   "metadata": {},
   "source": [
    "Functions can accept a variable number of arguments using *args and **kwargs.\n",
    "*args collects positional arguments into a tuple, and **kwargs collects keyword arguments into a dictionary."
   ]
  },
  {
   "cell_type": "code",
   "execution_count": null,
   "metadata": {},
   "outputs": [],
   "source": [
    "def my_function(*args):\n",
    "    for arg in args:\n",
    "        print(arg)\n",
    "\n",
    "my_function(1, 2, 3)  \n",
    "my_function('a', 'b', 'c', 'd')"
   ]
  },
  {
   "cell_type": "code",
   "execution_count": null,
   "metadata": {},
   "outputs": [],
   "source": [
    "def my_function(**kwargs):\n",
    "    for key, value in kwargs.items():\n",
    "        print(f\"{key}: {value}\")\n",
    "\n",
    "my_function(a=1, b=2, c=3) \n",
    "my_function(name='Alice', age=30)  "
   ]
  },
  {
   "cell_type": "markdown",
   "metadata": {},
   "source": [
    "##### Local vs Global variables"
   ]
  },
  {
   "cell_type": "markdown",
   "metadata": {},
   "source": [
    "##### Local variables\n",
    "\n",
    "Local variables are variables defined within a function. They are created when the function is called and exist only within the scope of that function. The scope of a local variable is limited to the block of code where it is defined, typically within the function body, and cannot be accessed outside the function in which they are defined\n",
    "Attempting to access a local variable outside its scope will result in a 'NameError'."
   ]
  },
  {
   "cell_type": "code",
   "execution_count": null,
   "metadata": {},
   "outputs": [],
   "source": [
    "def my_function():\n",
    "    x = 10  # x is a local variable\n",
    "    print(x)\n",
    "\n",
    "my_function() "
   ]
  },
  {
   "cell_type": "markdown",
   "metadata": {},
   "source": [
    "##### Global variables \n",
    "\n",
    "Global variables are variables defined outside of any function. They are accessible from any part of the program, including within functions. Global variables have a global scope, meaning they are visible and accessible throughout the entire program.\n",
    "Changes made to global variables within functions affect their value globally unless explicitly declared otherwise using the global keyword."
   ]
  },
  {
   "cell_type": "code",
   "execution_count": null,
   "metadata": {},
   "outputs": [],
   "source": [
    "x = 10  # x is a global variable\n",
    "\n",
    "def my_function():\n",
    "    print(x)  # Accessing global variable\n",
    "\n",
    "my_function() "
   ]
  },
  {
   "cell_type": "markdown",
   "metadata": {},
   "source": [
    "##### Fizzbuzz function \n",
    "\n",
    "An example of a function using loops and conditional statements:"
   ]
  },
  {
   "cell_type": "code",
   "execution_count": null,
   "metadata": {},
   "outputs": [],
   "source": [
    "def fizzbuzz(n):\n",
    "    for number in range(1, n + 1):  #### loops i in range (1, n+1)\n",
    "        if (\n",
    "            number % 3 == 0 and number % 5 == 0\n",
    "        ):  ### check if the remeinder of i in 3 and 5 equals zero\n",
    "            print(\"FizzBuzz\")\n",
    "        elif number % 3 == 0:  ### check if the remeinder of i in 3 equals zero\n",
    "            print(\"Fizz\")\n",
    "        elif number % 5 == 0:  ### check if the remeinder of i in 5 equals zero\n",
    "            print(\"Buzz\")\n",
    "        else:\n",
    "            print(number)\n",
    "\n",
    "\n",
    "# Call the function with the range you want, for example:\n",
    "fizzbuzz(100)"
   ]
  },
  {
   "cell_type": "markdown",
   "metadata": {},
   "source": [
    "### Recurssion"
   ]
  },
  {
   "cell_type": "code",
   "execution_count": null,
   "metadata": {},
   "outputs": [],
   "source": [
    "print(5)"
   ]
  },
  {
   "cell_type": "markdown",
   "metadata": {},
   "source": [
    "### lambda functions "
   ]
  },
  {
   "cell_type": "code",
   "execution_count": null,
   "metadata": {},
   "outputs": [],
   "source": []
  },
  {
   "cell_type": "markdown",
   "metadata": {},
   "source": [
    "### Classes, objects and methods "
   ]
  },
  {
   "cell_type": "code",
   "execution_count": null,
   "metadata": {},
   "outputs": [],
   "source": []
  },
  {
   "cell_type": "code",
   "execution_count": null,
   "metadata": {},
   "outputs": [],
   "source": []
  }
 ],
 "metadata": {
  "kernelspec": {
   "display_name": "Python 3",
   "language": "python",
   "name": "python3"
  },
  "language_info": {
   "codemirror_mode": {
    "name": "ipython",
    "version": 3
   },
   "file_extension": ".py",
   "mimetype": "text/x-python",
   "name": "python",
   "nbconvert_exporter": "python",
   "pygments_lexer": "ipython3",
   "version": "3.11.5"
  }
 },
 "nbformat": 4,
 "nbformat_minor": 2
}
