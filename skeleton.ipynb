{
   "cells": [
      {
         "cell_type": "markdown",
         "metadata": {},
         "source": [
            "### Logic"
         ]
      },
      {
         "cell_type": "code",
         "execution_count": 2,
         "metadata": {},
         "outputs": [
            {
               "name": "stdout",
               "output_type": "stream",
               "text": [
                  "False\n"
               ]
            }
         ],
         "source": [
            "print(6 > 10)"
         ]
      },
      {
         "cell_type": "markdown",
         "metadata": {},
         "source": [
            "### loops "
         ]
      },
      {
         "cell_type": "code",
         "execution_count": null,
         "metadata": {},
         "outputs": [],
         "source": []
      },
      {
         "cell_type": "markdown",
         "metadata": {},
         "source": [
            "### Functions  "
         ]
      },
      {
         "cell_type": "code",
         "execution_count": null,
         "metadata": {},
         "outputs": [],
         "source": []
      },
      {
         "cell_type": "markdown",
         "metadata": {},
         "source": [
            "##### fizz buzz function \n"
         ]
      },
      {
         "cell_type": "code",
         "execution_count": 2,
         "metadata": {},
         "outputs": [
            {
               "name": "stdout",
               "output_type": "stream",
               "text": [
                  "1\n",
                  "2\n",
                  "Fizz\n",
                  "4\n",
                  "Buzz\n",
                  "Fizz\n",
                  "7\n",
                  "8\n",
                  "Fizz\n",
                  "Buzz\n",
                  "11\n",
                  "Fizz\n",
                  "13\n",
                  "14\n",
                  "FizzBuzz\n",
                  "16\n",
                  "17\n",
                  "Fizz\n",
                  "19\n",
                  "Buzz\n",
                  "Fizz\n",
                  "22\n",
                  "23\n",
                  "Fizz\n",
                  "Buzz\n",
                  "26\n",
                  "Fizz\n",
                  "28\n",
                  "29\n",
                  "FizzBuzz\n",
                  "31\n",
                  "32\n",
                  "Fizz\n",
                  "34\n",
                  "Buzz\n",
                  "Fizz\n",
                  "37\n",
                  "38\n",
                  "Fizz\n",
                  "Buzz\n",
                  "41\n",
                  "Fizz\n",
                  "43\n",
                  "44\n",
                  "FizzBuzz\n",
                  "46\n",
                  "47\n",
                  "Fizz\n",
                  "49\n",
                  "Buzz\n",
                  "Fizz\n",
                  "52\n",
                  "53\n",
                  "Fizz\n",
                  "Buzz\n",
                  "56\n",
                  "Fizz\n",
                  "58\n",
                  "59\n",
                  "FizzBuzz\n",
                  "61\n",
                  "62\n",
                  "Fizz\n",
                  "64\n",
                  "Buzz\n",
                  "Fizz\n",
                  "67\n",
                  "68\n",
                  "Fizz\n",
                  "Buzz\n",
                  "71\n",
                  "Fizz\n",
                  "73\n",
                  "74\n",
                  "FizzBuzz\n",
                  "76\n",
                  "77\n",
                  "Fizz\n",
                  "79\n",
                  "Buzz\n",
                  "Fizz\n",
                  "82\n",
                  "83\n",
                  "Fizz\n",
                  "Buzz\n",
                  "86\n",
                  "Fizz\n",
                  "88\n",
                  "89\n",
                  "FizzBuzz\n",
                  "91\n",
                  "92\n",
                  "Fizz\n",
                  "94\n",
                  "Buzz\n",
                  "Fizz\n",
                  "97\n",
                  "98\n",
                  "Fizz\n",
                  "Buzz\n"
               ]
            }
         ],
         "source": [
            "def fizzbuzz(n):\n",
            "    for number in range(1, n + 1):  #### loops i in range (1, n+1)\n",
            "        if (\n",
            "            number % 3 == 0 and number % 5 == 0\n",
            "        ):  ### check if the remeinder of i in 3 and 5 equals zero\n",
            "            print(\"FizzBuzz\")\n",
            "        elif number % 3 == 0:  ### check if the remeinder of i in 3 equals zero\n",
            "            print(\"Fizz\")\n",
            "        elif number % 5 == 0:  ### check if the remeinder of i in 5 equals zero\n",
            "            print(\"Buzz\")\n",
            "        else:\n",
            "            print(number)\n",
            "\n",
            "\n",
            "# Call the function with the range you want, for example:\n",
            "fizzbuzz(100)"
         ]
      },
      {
         "cell_type": "markdown",
         "metadata": {},
         "source": [
            "### Recurssion"
         ]
      },
      {
         "cell_type": "code",
         "execution_count": 1,
         "metadata": {},
         "outputs": [
            {
               "name": "stdout",
               "output_type": "stream",
               "text": [
                  "5\n"
               ]
            }
         ],
         "source": [
            "print(5)"
         ]
      },
      {
         "cell_type": "markdown",
         "metadata": {},
         "source": [
            "### lambda functions "
         ]
      },
      {
         "cell_type": "code",
         "execution_count": null,
         "metadata": {},
         "outputs": [],
         "source": []
      },
      {
         "cell_type": "markdown",
         "metadata": {},
         "source": [
            "### Classes, objects and methods "
         ]
      },
      {
         "cell_type": "code",
         "execution_count": 5,
         "metadata": {},
         "outputs": [],
         "source": [
            "class EmptyClass:  ### This is an empty class\n",
            "    pass  ## im just how the pass works"
         ]
      },
      {
         "cell_type": "code",
         "execution_count": null,
         "metadata": {},
         "outputs": [],
         "source": []
      },
      {
         "cell_type": "code",
         "execution_count": null,
         "metadata": {},
         "outputs": [],
         "source": []
      }
   ],
   "metadata": {
      "kernelspec": {
         "display_name": "Python 3",
         "language": "python",
         "name": "python3"
      },
      "language_info": {
         "codemirror_mode": {
            "name": "ipython",
            "version": 3
         },
         "file_extension": ".py",
         "mimetype": "text/x-python",
         "name": "python",
         "nbconvert_exporter": "python",
         "pygments_lexer": "ipython3",
         "version": "3.11.9"
      }
   },
   "nbformat": 4,
   "nbformat_minor": 2
}